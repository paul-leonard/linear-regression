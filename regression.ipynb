{
 "metadata": {
  "language_info": {
   "codemirror_mode": {
    "name": "ipython",
    "version": 3
   },
   "file_extension": ".py",
   "mimetype": "text/x-python",
   "name": "python",
   "nbconvert_exporter": "python",
   "pygments_lexer": "ipython3",
   "version": "3.9.0-final"
  },
  "orig_nbformat": 2,
  "kernelspec": {
   "name": "python3",
   "display_name": "Python 3"
  }
 },
 "nbformat": 4,
 "nbformat_minor": 2,
 "cells": [
  {
   "source": [
    "# Lab16: Linear Regression"
   ],
   "cell_type": "markdown",
   "metadata": {}
  },
  {
   "source": [
    "Required Features:\n",
    "- [x] Load the data you receive into a Pandas DataFrame.\n",
    "- [x] Show the first five rows of the data set.\n",
    "- [x] Show the description and the info of the data set.\n",
    "- [x] Ensure that any date columns have been cast into a datetime object in your DataFrame.\n",
    "- [ ] Using a regression model, split your data into train and test data.\n",
    "- [ ] Fit your training split to the regression model.\n",
    "- [ ] Show your regression model’s score.\n",
    "- [ ] Draw at least three conclusions from your regression model.\n",
    "- [ ] Your notebook should be clutter free and polished."
   ],
   "cell_type": "markdown",
   "metadata": {}
  },
  {
   "source": [
    "## Importing data and libraries"
   ],
   "cell_type": "markdown",
   "metadata": {}
  },
  {
   "cell_type": "code",
   "execution_count": 2,
   "metadata": {},
   "outputs": [],
   "source": [
    "import pandas as pd\n",
    "\n",
    "\n",
    "df = pd.read_csv(\"./data.csv\")"
   ]
  },
  {
   "source": [
    "## Show the first five rows of the data set"
   ],
   "cell_type": "markdown",
   "metadata": {}
  },
  {
   "cell_type": "code",
   "execution_count": 4,
   "metadata": {},
   "outputs": [
    {
     "output_type": "execute_result",
     "data": {
      "text/plain": [
       "   Height  Weight\n",
       "0    1.47   52.21\n",
       "1    1.50   53.12\n",
       "2    1.52   54.48\n",
       "3    1.55   55.84\n",
       "4    1.57   57.20"
      ],
      "text/html": "<div>\n<style scoped>\n    .dataframe tbody tr th:only-of-type {\n        vertical-align: middle;\n    }\n\n    .dataframe tbody tr th {\n        vertical-align: top;\n    }\n\n    .dataframe thead th {\n        text-align: right;\n    }\n</style>\n<table border=\"1\" class=\"dataframe\">\n  <thead>\n    <tr style=\"text-align: right;\">\n      <th></th>\n      <th>Height</th>\n      <th>Weight</th>\n    </tr>\n  </thead>\n  <tbody>\n    <tr>\n      <th>0</th>\n      <td>1.47</td>\n      <td>52.21</td>\n    </tr>\n    <tr>\n      <th>1</th>\n      <td>1.50</td>\n      <td>53.12</td>\n    </tr>\n    <tr>\n      <th>2</th>\n      <td>1.52</td>\n      <td>54.48</td>\n    </tr>\n    <tr>\n      <th>3</th>\n      <td>1.55</td>\n      <td>55.84</td>\n    </tr>\n    <tr>\n      <th>4</th>\n      <td>1.57</td>\n      <td>57.20</td>\n    </tr>\n  </tbody>\n</table>\n</div>"
     },
     "metadata": {},
     "execution_count": 4
    }
   ],
   "source": [
    "df.head(5)"
   ]
  },
  {
   "source": [
    "## Show the info of the data set"
   ],
   "cell_type": "markdown",
   "metadata": {}
  },
  {
   "cell_type": "code",
   "execution_count": 8,
   "metadata": {},
   "outputs": [
    {
     "output_type": "stream",
     "name": "stdout",
     "text": [
      "<class 'pandas.core.frame.DataFrame'>\nRangeIndex: 15 entries, 0 to 14\nData columns (total 2 columns):\n #   Column  Non-Null Count  Dtype  \n---  ------  --------------  -----  \n 0   Height  15 non-null     float64\n 1   Weight  15 non-null     float64\ndtypes: float64(2)\nmemory usage: 368.0 bytes\n"
     ]
    }
   ],
   "source": [
    "df.info()"
   ]
  },
  {
   "source": [
    "## Show the description of the data set"
   ],
   "cell_type": "markdown",
   "metadata": {}
  },
  {
   "cell_type": "code",
   "execution_count": 6,
   "metadata": {},
   "outputs": [
    {
     "output_type": "execute_result",
     "data": {
      "text/plain": [
       "          Height     Weight\n",
       "count  15.000000  15.000000\n",
       "mean    1.650667  62.078000\n",
       "std     0.114235   7.037515\n",
       "min     1.470000  52.210000\n",
       "25%     1.560000  56.520000\n",
       "50%     1.650000  61.290000\n",
       "75%     1.740000  67.190000\n",
       "max     1.830000  74.460000"
      ],
      "text/html": "<div>\n<style scoped>\n    .dataframe tbody tr th:only-of-type {\n        vertical-align: middle;\n    }\n\n    .dataframe tbody tr th {\n        vertical-align: top;\n    }\n\n    .dataframe thead th {\n        text-align: right;\n    }\n</style>\n<table border=\"1\" class=\"dataframe\">\n  <thead>\n    <tr style=\"text-align: right;\">\n      <th></th>\n      <th>Height</th>\n      <th>Weight</th>\n    </tr>\n  </thead>\n  <tbody>\n    <tr>\n      <th>count</th>\n      <td>15.000000</td>\n      <td>15.000000</td>\n    </tr>\n    <tr>\n      <th>mean</th>\n      <td>1.650667</td>\n      <td>62.078000</td>\n    </tr>\n    <tr>\n      <th>std</th>\n      <td>0.114235</td>\n      <td>7.037515</td>\n    </tr>\n    <tr>\n      <th>min</th>\n      <td>1.470000</td>\n      <td>52.210000</td>\n    </tr>\n    <tr>\n      <th>25%</th>\n      <td>1.560000</td>\n      <td>56.520000</td>\n    </tr>\n    <tr>\n      <th>50%</th>\n      <td>1.650000</td>\n      <td>61.290000</td>\n    </tr>\n    <tr>\n      <th>75%</th>\n      <td>1.740000</td>\n      <td>67.190000</td>\n    </tr>\n    <tr>\n      <th>max</th>\n      <td>1.830000</td>\n      <td>74.460000</td>\n    </tr>\n  </tbody>\n</table>\n</div>"
     },
     "metadata": {},
     "execution_count": 6
    }
   ],
   "source": [
    "df.describe()"
   ]
  },
  {
   "source": [
    "## Converting from metric"
   ],
   "cell_type": "markdown",
   "metadata": {}
  },
  {
   "cell_type": "code",
   "execution_count": 19,
   "metadata": {},
   "outputs": [],
   "source": [
    "df['Weight_lbs'] = df['Weight']*2.20462\n",
    "df['Height_in'] = df['Height']*39.3701"
   ]
  },
  {
   "cell_type": "code",
   "execution_count": 20,
   "metadata": {},
   "outputs": [
    {
     "output_type": "execute_result",
     "data": {
      "text/plain": [
       "          Height     Weight  Height_in  Weight_lbs\n",
       "count  15.000000  15.000000  15.000000   15.000000\n",
       "mean    1.650667  62.078000  64.986912  136.858400\n",
       "std     0.114235   7.037515   4.497424   15.515046\n",
       "min     1.470000  52.210000  57.874047  115.103210\n",
       "25%     1.560000  56.520000  61.417356  124.605122\n",
       "50%     1.650000  61.290000  64.960665  135.121160\n",
       "75%     1.740000  67.190000  68.503974  148.128418\n",
       "max     1.830000  74.460000  72.047283  164.156005"
      ],
      "text/html": "<div>\n<style scoped>\n    .dataframe tbody tr th:only-of-type {\n        vertical-align: middle;\n    }\n\n    .dataframe tbody tr th {\n        vertical-align: top;\n    }\n\n    .dataframe thead th {\n        text-align: right;\n    }\n</style>\n<table border=\"1\" class=\"dataframe\">\n  <thead>\n    <tr style=\"text-align: right;\">\n      <th></th>\n      <th>Height</th>\n      <th>Weight</th>\n      <th>Height_in</th>\n      <th>Weight_lbs</th>\n    </tr>\n  </thead>\n  <tbody>\n    <tr>\n      <th>count</th>\n      <td>15.000000</td>\n      <td>15.000000</td>\n      <td>15.000000</td>\n      <td>15.000000</td>\n    </tr>\n    <tr>\n      <th>mean</th>\n      <td>1.650667</td>\n      <td>62.078000</td>\n      <td>64.986912</td>\n      <td>136.858400</td>\n    </tr>\n    <tr>\n      <th>std</th>\n      <td>0.114235</td>\n      <td>7.037515</td>\n      <td>4.497424</td>\n      <td>15.515046</td>\n    </tr>\n    <tr>\n      <th>min</th>\n      <td>1.470000</td>\n      <td>52.210000</td>\n      <td>57.874047</td>\n      <td>115.103210</td>\n    </tr>\n    <tr>\n      <th>25%</th>\n      <td>1.560000</td>\n      <td>56.520000</td>\n      <td>61.417356</td>\n      <td>124.605122</td>\n    </tr>\n    <tr>\n      <th>50%</th>\n      <td>1.650000</td>\n      <td>61.290000</td>\n      <td>64.960665</td>\n      <td>135.121160</td>\n    </tr>\n    <tr>\n      <th>75%</th>\n      <td>1.740000</td>\n      <td>67.190000</td>\n      <td>68.503974</td>\n      <td>148.128418</td>\n    </tr>\n    <tr>\n      <th>max</th>\n      <td>1.830000</td>\n      <td>74.460000</td>\n      <td>72.047283</td>\n      <td>164.156005</td>\n    </tr>\n  </tbody>\n</table>\n</div>"
     },
     "metadata": {},
     "execution_count": 20
    }
   ],
   "source": [
    "df.describe()"
   ]
  },
  {
   "cell_type": "code",
   "execution_count": null,
   "metadata": {},
   "outputs": [],
   "source": []
  }
 ]
}